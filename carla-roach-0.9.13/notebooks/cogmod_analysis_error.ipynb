{
 "cells": [
  {
   "cell_type": "code",
   "execution_count": 1,
   "metadata": {},
   "outputs": [],
   "source": [
    "project_directory = r\"C:\\Users\\abjawad\\Documents\\GitHub\\carla-roach-0.9.13\"\n",
    "import sys\n",
    "sys.path.append(project_directory)"
   ]
  },
  {
   "cell_type": "code",
   "execution_count": 2,
   "metadata": {},
   "outputs": [],
   "source": [
    "import os\n",
    "import pandas as pd\n",
    "import json\n",
    "from utils import analysis_utils as autils\n",
    "import matplotlib.pyplot as plt"
   ]
  },
  {
   "cell_type": "code",
   "execution_count": 3,
   "metadata": {},
   "outputs": [
    {
     "name": "stdout",
     "output_type": "stream",
     "text": [
      "36\n"
     ]
    }
   ],
   "source": [
    "data_folders = {\n",
    "\n",
    "    'seed1' : os.path.join(project_directory, 'outputs', 'experiment_1', '23-40-09'), # '2024-04-26'\n",
    "    'seed2' : os.path.join(project_directory, 'outputs', 'experiment_1', '03-03-02'), # '2024-04-26'\n",
    "    'seed3' : os.path.join(project_directory, 'outputs', 'experiment_1', '00-14-25'), # '2024-04-27'\n",
    "    'seed4' : os.path.join(project_directory, 'outputs', 'experiment_1', '00-06-31'), # '2024-04-28'\n",
    "}\n",
    "\n",
    "\n",
    "\n",
    "file_path = data_folders['seed1']\n",
    "df = autils.create_episode_df(file_path)\n",
    "print(len(df))\n",
    "# autils.plot_accidents_vs_traffic_density(df)"
   ]
  },
  {
   "cell_type": "code",
   "execution_count": 4,
   "metadata": {},
   "outputs": [],
   "source": [
    "# measure average velocity for different traffic density\n"
   ]
  },
  {
   "cell_type": "code",
   "execution_count": 5,
   "metadata": {},
   "outputs": [
    {
     "name": "stdout",
     "output_type": "stream",
     "text": [
      "len(agg_df): 144\n",
      "Index(['collisions_pedestrian', 'collisions_vehicle', 'is_route_completed',\n",
      "       'is_route_completed_nocrash', 'length', 'reward',\n",
      "       'route_completed_in_km', 'route_length_in_km', 'run', 'suite',\n",
      "       'timeout', 'vehicle_blocked', 'step', 'simulation_time', 'driver_type',\n",
      "       'run_number', 'location', 'traffic', 'n_collision_vehicle',\n",
      "       'n_collision_pedestrian', 'date', 'time'],\n",
      "      dtype='object')\n"
     ]
    }
   ],
   "source": [
    "file_paths = list(data_folders.values())\n",
    "agg_df = pd.DataFrame()\n",
    "for file_path in file_paths:\n",
    "    df = autils.create_episode_df(file_path)\n",
    "    df['date'] = file_path.split('\\\\')[-2]\n",
    "    df['time'] = file_path.split('\\\\')[-1]\n",
    "    agg_df = pd.concat([agg_df, df])\n",
    "\n",
    "print(\"len(agg_df):\", len(agg_df))\n",
    "print(agg_df.columns)"
   ]
  },
  {
   "cell_type": "code",
   "execution_count": 11,
   "metadata": {},
   "outputs": [
    {
     "data": {
      "text/plain": [
       "Index(['timestamp', 'simulation_time', 'wall_time', 'frame', 'throttle',\n",
       "       'steer', 'brake', 'value', 'action_mu_1', 'action_mu_2',\n",
       "       'action_sigma_1', 'action_sigma_2', 'speed', 'gaze_direction',\n",
       "       'detection_error', 'approximation_error', 'image_difference',\n",
       "       'driver_type', 'traffic', 'location'],\n",
       "      dtype='object')"
      ]
     },
     "execution_count": 11,
     "metadata": {},
     "output_type": "execute_result"
    }
   ],
   "source": [
    "df = pd.DataFrame()\n",
    "for i in range(len(agg_df)):\n",
    "    episode = agg_df.iloc[i]\n",
    "    episode.T\n",
    "    # run normal_1_repeat_0 suite CogMod-v0_Town04_low_simple\n",
    "    # file_name = os.path.join(file_path, 'diagnostics', df.loc[i, 'suite'], f\"{df.loc[i, 'run']}.json\")\n",
    "    episode_csv_path = os.path.join(project_directory, 'outputs', episode['date'], episode['time'], 'diagnostics', episode['suite'], f\"{episode['run']}.csv\")\n",
    "\n",
    "    episode_df = pd.read_csv(episode_csv_path)\n",
    "    episode_df['driver_type'] = episode['driver_type']\n",
    "    episode_df['traffic'] = episode['traffic']\n",
    "    episode_df['location'] = episode['location']\n",
    "    df = pd.concat([df, episode_df])\n",
    "    break\n",
    "\n",
    "df.columns"
   ]
  },
  {
   "cell_type": "code",
   "execution_count": 14,
   "metadata": {},
   "outputs": [
    {
     "name": "stdout",
     "output_type": "stream",
     "text": [
      "0       None\n",
      "1       None\n",
      "2       None\n",
      "3       None\n",
      "4       None\n",
      "        ... \n",
      "2341    None\n",
      "2342    None\n",
      "2343    None\n",
      "2344    None\n",
      "2345    None\n",
      "Name: speed, Length: 2346, dtype: object\n"
     ]
    }
   ],
   "source": [
    "# Assuming `df` is your original dataframe\n",
    "df['speed'] = df['speed'].apply(lambda x: x.iloc[0] if isinstance(x, list) and len(x) > 0 and isinstance(x[0], (int, float)) else None)\n",
    "print(df['speed'])\n",
    "\n",
    "# avg_velocities = []\n",
    "# for name, group in grouped_df:\n",
    "#     print(name)\n",
    "#     print(group['speed'])\n",
    "#     avg_velocities.append(group['speed'].mean())\n",
    "#     break\n",
    "\n",
    "# print(avg_velocities)"
   ]
  },
  {
   "cell_type": "code",
   "execution_count": null,
   "metadata": {},
   "outputs": [],
   "source": [
    "collisions = pd.DataFrame()\n",
    "for file_path in file_paths:\n",
    "    df = autils.create_df_for_collisions_with_moving_objects(file_path)\n",
    "    collisions = pd.concat([collisions, df])\n",
    "\n",
    "print('Total Collision ', len(collisions))\n",
    "print('total vehicle collision', len(collisions[collisions['collision_type'] == 1]))\n",
    "print('total pedestrian collision', len(collisions[collisions['collision_type'] == 2]))\n"
   ]
  },
  {
   "cell_type": "code",
   "execution_count": null,
   "metadata": {},
   "outputs": [],
   "source": [
    "import pandas as pd\n",
    "import seaborn as sns\n",
    "import matplotlib.pyplot as plt\n",
    "\n",
    "# Assuming 'collisions' is your existing DataFrame\n",
    "# Create additional data entries for the 'basic' driver type\n",
    "additional_data = pd.DataFrame({\n",
    "    'driver_type': ['basic', 'basic'],\n",
    "    'oa_vel': [2.5, 3.1],  # other vehicle/walker velocities\n",
    "    'ev_vel': [3.4, 2.7]   # ego vehicle velocities\n",
    "})\n",
    "\n",
    "# Append this data to the existing DataFrame\n",
    "collisions_with_basic = pd.concat([collisions, additional_data], ignore_index=True)\n",
    "\n",
    "# Define the desired order for 'driver_type' and convert to categorical\n",
    "order = ['basic', 'normal', 'distracted']\n",
    "collisions_with_basic['driver_type'] = pd.Categorical(collisions_with_basic['driver_type'], categories=order, ordered=True)\n",
    "\n",
    "# Calculate unique driver types for legend placement\n",
    "unique_driver_types = collisions_with_basic['driver_type'].nunique()\n",
    "palette = sns.color_palette(\"hls\", unique_driver_types)\n",
    "\n",
    "# Create the scatter plot\n",
    "plt.figure(figsize=(12, 8))\n",
    "sns.scatterplot(x='oa_vel', y='ev_vel', hue='driver_type', data=collisions_with_basic, palette=palette)\n",
    "\n",
    "# Add labels\n",
    "plt.xlabel('Other Agent Velocity (m/s)')\n",
    "plt.ylabel('Ego Vehicle Velocity (m/s)')\n",
    "\n",
    "# Adjust the legend to accommodate the potentially increased number of driver types\n",
    "plt.legend(bbox_to_anchor=(0.5, -0.1), loc='upper center', ncol=unique_driver_types)\n",
    "\n",
    "# Ensure the plot layout fits well in the display area\n",
    "plt.tight_layout()\n",
    "plt.show()\n"
   ]
  },
  {
   "cell_type": "code",
   "execution_count": null,
   "metadata": {},
   "outputs": [],
   "source": [
    "normal_driver_collisions = collisions[collisions['driver_type'] == 'normal']\n",
    "normal_driver_vehicle_collisions = normal_driver_collisions[normal_driver_collisions['collision_type'] == 1]\n",
    "normal_driver_pedestrian_collisions = normal_driver_collisions[normal_driver_collisions['collision_type'] == 2]\n",
    "\n",
    "distracted_driver_collisions = collisions[collisions['driver_type'] == 'distracted']\n",
    "distracted_driver_vehicle_collisions = distracted_driver_collisions[distracted_driver_collisions['collision_type'] == 1]\n",
    "distracted_driver_pedestrian_collisions = distracted_driver_collisions[distracted_driver_collisions['collision_type'] == 2]\n",
    "\n",
    "print('Total Normal Driver Collision ', len(normal_driver_collisions), 'Vehicle:', len(normal_driver_vehicle_collisions), 'Pedestrian:', len(normal_driver_pedestrian_collisions))\n",
    "print('Total Distracted Driver Collision ', len(distracted_driver_collisions), 'Vehicle:', len(distracted_driver_vehicle_collisions), 'Pedestrian:', len(distracted_driver_pedestrian_collisions))\n"
   ]
  },
  {
   "cell_type": "code",
   "execution_count": null,
   "metadata": {},
   "outputs": [],
   "source": [
    "# import pandas as pd\n",
    "# import matplotlib.pyplot as plt\n",
    "# import seaborn as sns\n",
    "\n",
    "\n",
    "# def calculate_fixation_times(gaze_data):\n",
    "#     changes = gaze_data['gaze_direction'].ne(gaze_data['gaze_direction'].shift())\n",
    "#     gaze_data['fixation_start'] = changes.cumsum()\n",
    "#     fixation_durations = gaze_data.groupby(['other_actor_id', 'fixation_start']).size() * 0.1\n",
    "#     return fixation_durations.reset_index(name='fixation_duration')\n",
    "\n",
    "# def plot_avg_fixation_time_by_driver_type(collisions):\n",
    "#     # Calculate fixation times\n",
    "#     fixation_times = calculate_fixation_times(collisions)\n",
    "#     fixation_times = fixation_times.merge(collisions[['other_actor_id', 'driver_type']], on='other_actor_id', how='left').drop_duplicates()\n",
    "#     avg_fixation_times = fixation_times.groupby(['other_actor_id', 'driver_type']).agg({\n",
    "#         'fixation_duration': 'mean'\n",
    "#     }).reset_index()\n",
    "\n",
    "#     avg_fixation_times.rename(columns={'fixation_duration': 'Average Fixation Duration'}, inplace=True)\n",
    "#     plt.figure(figsize=(12, 8))\n",
    "#     point_plot = sns.pointplot(x='driver_type', y='Average Fixation Duration', data=avg_fixation_times,\n",
    "#                                palette='deep', markers='o', linestyles='-')\n",
    "#     plt.ylabel('Mean Fixation Duration per Frame (seconds)')\n",
    "#     plt.xlabel('Driver Type')\n",
    "\n",
    "#     plt.show()\n",
    "\n",
    "# def plot_avg_approximation_error_by_accident_and_driver_type(collisions):\n",
    "#     collisions['approximation_error'] = collisions['approximation_error'].apply(lambda x: 0 if x < 0 else x)\n",
    "#     accident_errors = collisions.groupby(['other_actor_id', 'driver_type']).agg({\n",
    "#         'approximation_error': 'mean'\n",
    "#     }).reset_index()\n",
    "#     accident_errors.rename(columns={'approximation_error': 'Average Approximation Error'}, inplace=True)\n",
    "#     plt.figure(figsize=(12, 8))\n",
    "#     point_plot = sns.pointplot(x='driver_type', y='Average Approximation Error', data=accident_errors,\n",
    "#                                palette='deep', markers='o', linestyles='-')\n",
    "#     plt.ylabel('Mean Approximation Error per Frame (meters)')\n",
    "#     plt.xlabel('Driver Type')\n",
    "\n",
    "#     plt.show()\n",
    "\n",
    "# def plot_avg_detection_error_by_accident_and_driver_type(collisions):\n",
    "#     collisions['detection_error'] = collisions['detection_error'].apply(lambda x: 0 if x < 0 else x)\n",
    "#     accident_errors = collisions.groupby(['other_actor_id', 'driver_type']).agg({\n",
    "#         'detection_error': 'mean'\n",
    "#     }).reset_index()\n",
    "\n",
    "#     accident_errors.rename(columns={'detection_error': 'Average Detection Error'}, inplace=True)\n",
    "\n",
    "#     sns.set_context(\"talk\")  # This sets the context to \"talk\", which is one of the predefined contexts in Seaborn (larger than default)\n",
    "#     plt.figure(figsize=(12, 8))\n",
    "#     point_plot = sns.pointplot(x='driver_type', y='Average Detection Error', data=accident_errors,\n",
    "#                                palette='deep', markers='o', linestyles='-')\n",
    "#     plt.ylabel('Mean Detection Error per Frame')\n",
    "#     plt.xlabel('Driver Type')\n",
    "#     plt.show()\n",
    "\n",
    "\n",
    "# # Assuming 'collisions' is your DataFrame containing all the necessary data\n",
    "# accident_scenario_df = autils.get_collision_with_vehicle_scenario_df(file_path, collisions, threshold=10)\n",
    "# print('Total Accident Scenarios:', len(collisions))\n",
    "# print(len(accident_scenario_df))\n",
    "\n",
    "# plot_avg_detection_error_by_accident_and_driver_type(accident_scenario_df)\n",
    "# plot_avg_approximation_error_by_accident_and_driver_type(accident_scenario_df)\n",
    "# plot_avg_fixation_time_by_driver_type(accident_scenario_df)\n"
   ]
  },
  {
   "cell_type": "code",
   "execution_count": null,
   "metadata": {},
   "outputs": [],
   "source": [
    "# autils.plot_error_and_speed_vs_timestamp(individual_accident)\n",
    "\n",
    "# print all the speed value for the individual accident speed is in the form  [6.555695], so convert it to float\n",
    "# individual_accident = accident_scenario_df[accident_scenario_df['other_actor_id'] == 5239]\n",
    "# individual_accident.columns\n",
    "# autils.plot_error_and_speed_vs_timestamp(accident_scenario_df)\n"
   ]
  },
  {
   "cell_type": "code",
   "execution_count": null,
   "metadata": {},
   "outputs": [],
   "source": [
    "# episode_df = autils.create_episode_df(file_path)\n",
    "# # normal_driver = autils.get_episodes_with_driver_type(file_path, 'normal')\n",
    "# # distracted_driver = autils.get_episodes_with_driver_type(file_path, 'distracted')\n",
    "# episode_df.T\n",
    "# # autils.plot_accidents_vs_traffic_density(distracted_driver)"
   ]
  },
  {
   "cell_type": "code",
   "execution_count": null,
   "metadata": {},
   "outputs": [],
   "source": [
    "# accident_scenario_df = autils.get_collision_with_vehicle_scenario_df(file_path, accidents_vehicle_df)\n",
    "\n",
    "# autils.plot_accidents_vs_traffic_density_from_accident_df(accident_pedestrian_df)\n",
    "# len(accident_pedestrian_df)"
   ]
  },
  {
   "cell_type": "code",
   "execution_count": null,
   "metadata": {},
   "outputs": [],
   "source": []
  },
  {
   "cell_type": "code",
   "execution_count": null,
   "metadata": {},
   "outputs": [],
   "source": []
  },
  {
   "cell_type": "code",
   "execution_count": null,
   "metadata": {},
   "outputs": [],
   "source": []
  }
 ],
 "metadata": {
  "kernelspec": {
   "display_name": "carla",
   "language": "python",
   "name": "python3"
  },
  "language_info": {
   "codemirror_mode": {
    "name": "ipython",
    "version": 3
   },
   "file_extension": ".py",
   "mimetype": "text/x-python",
   "name": "python",
   "nbconvert_exporter": "python",
   "pygments_lexer": "ipython3",
   "version": "3.7.8"
  }
 },
 "nbformat": 4,
 "nbformat_minor": 2
}
