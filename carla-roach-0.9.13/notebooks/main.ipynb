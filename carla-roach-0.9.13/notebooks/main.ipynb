{
 "cells": [
  {
   "cell_type": "code",
   "execution_count": 1,
   "metadata": {},
   "outputs": [
    {
     "name": "stdout",
     "output_type": "stream",
     "text": [
      "/home/ubuntu/vihaan-devel/carla/sip-report-gen/carla-roach-0.9.13/\n"
     ]
    },
    {
     "ename": "ValueError",
     "evalue": "invalid literal for int() with base 10: ''",
     "output_type": "error",
     "traceback": [
      "\u001b[0;31m---------------------------------------------------------------------------\u001b[0m",
      "\u001b[0;31mValueError\u001b[0m                                Traceback (most recent call last)",
      "\u001b[0;32m/tmp/ipykernel_151142/3625940963.py\u001b[0m in \u001b[0;36m<module>\u001b[0;34m\u001b[0m\n\u001b[0;32m----> 1\u001b[0;31m \u001b[0;32mfrom\u001b[0m \u001b[0mipynb\u001b[0m\u001b[0;34m.\u001b[0m\u001b[0mfs\u001b[0m\u001b[0;34m.\u001b[0m\u001b[0mfull\u001b[0m\u001b[0;34m.\u001b[0m\u001b[0madvanced_replay\u001b[0m \u001b[0;32mimport\u001b[0m \u001b[0;34m*\u001b[0m\u001b[0;34m\u001b[0m\u001b[0;34m\u001b[0m\u001b[0m\n\u001b[0m\u001b[1;32m      2\u001b[0m \u001b[0;34m\u001b[0m\u001b[0m\n\u001b[1;32m      3\u001b[0m \u001b[0mprint\u001b[0m\u001b[0;34m(\u001b[0m\u001b[0;34m'hi'\u001b[0m\u001b[0;34m)\u001b[0m\u001b[0;34m\u001b[0m\u001b[0;34m\u001b[0m\u001b[0m\n",
      "\u001b[0;32m~/vihaan-devel/carla/sip-report-gen/carla-roach-0.9.13/notebooks/advanced_replay.ipynb\u001b[0m in \u001b[0;36m<module>\u001b[0;34m\u001b[0m\n\u001b[1;32m    108\u001b[0m     \u001b[0;34m\"        client = carla.Client(host, port)\\n\"\u001b[0m\u001b[0;34m,\u001b[0m\u001b[0;34m\u001b[0m\u001b[0;34m\u001b[0m\u001b[0m\n\u001b[1;32m    109\u001b[0m     \u001b[0;34m\"        print(f\\\"client connected to {host}:{port}\\\")\\n\"\u001b[0m\u001b[0;34m,\u001b[0m\u001b[0;34m\u001b[0m\u001b[0;34m\u001b[0m\u001b[0m\n\u001b[0;32m--> 110\u001b[0;31m     \u001b[0;34m\"        print(f\\\"client.get_server_version(): {client.get_server_version()}, client.get_client_version(): {client.get_client_version()}\\\")\\n\"\u001b[0m\u001b[0;34m,\u001b[0m\u001b[0;34m\u001b[0m\u001b[0;34m\u001b[0m\u001b[0m\n\u001b[0m\u001b[1;32m    111\u001b[0m     \u001b[0;34m\"        client.set_timeout(60.0)\\n\"\u001b[0m\u001b[0;34m,\u001b[0m\u001b[0;34m\u001b[0m\u001b[0;34m\u001b[0m\u001b[0m\n\u001b[1;32m    112\u001b[0m     \u001b[0;34m\"    except RuntimeError as re:\\n\"\u001b[0m\u001b[0;34m,\u001b[0m\u001b[0;34m\u001b[0m\u001b[0;34m\u001b[0m\u001b[0m\n",
      "\u001b[0;32m~/vihaan-devel/carla/sip-report-gen/carla-roach-0.9.13/notebooks/advanced_replay.ipynb\u001b[0m in \u001b[0;36muser_input\u001b[0;34m()\u001b[0m\n\u001b[1;32m     17\u001b[0m     \u001b[0;34m\"import os\\n\"\u001b[0m\u001b[0;34m,\u001b[0m\u001b[0;34m\u001b[0m\u001b[0;34m\u001b[0m\u001b[0m\n\u001b[1;32m     18\u001b[0m     \u001b[0;34m\"import sys\\n\"\u001b[0m\u001b[0;34m,\u001b[0m\u001b[0;34m\u001b[0m\u001b[0;34m\u001b[0m\u001b[0m\n\u001b[0;32m---> 19\u001b[0;31m     \u001b[0;34m\"import carla\\n\"\u001b[0m\u001b[0;34m,\u001b[0m\u001b[0;34m\u001b[0m\u001b[0;34m\u001b[0m\u001b[0m\n\u001b[0m\u001b[1;32m     20\u001b[0m     \u001b[0;34m\"import yaml\\n\"\u001b[0m\u001b[0;34m,\u001b[0m\u001b[0;34m\u001b[0m\u001b[0;34m\u001b[0m\u001b[0m\n\u001b[1;32m     21\u001b[0m     \u001b[0;34m\"\\n\"\u001b[0m\u001b[0;34m,\u001b[0m\u001b[0;34m\u001b[0m\u001b[0;34m\u001b[0m\u001b[0m\n",
      "\u001b[0;31mValueError\u001b[0m: invalid literal for int() with base 10: ''"
     ]
    }
   ],
   "source": [
    "from ipynb.fs.full.advanced_replay import *\n",
    "\n",
    "print('hi')"
   ]
  },
  {
   "cell_type": "code",
   "execution_count": null,
   "metadata": {},
   "outputs": [],
   "source": [
    "'''\n",
    "gif_paths = []\n",
    "\n",
    "for i in range(len(gif_path_ego)):\n",
    "    gif_paths.append(gif_path_ego[i])\n",
    "    gif_paths.append(gif_path_other[i])\n",
    "\n",
    "gifs = [Image.open(gif_path) for gif_path in gif_paths]\n",
    "\n",
    "rows, columns = 3, 2\n",
    "canvas_width = 2400\n",
    "canvas_height = 1200\n",
    "\n",
    "# Get the number of frames to use (based on the longest GIF)\n",
    "max_frames = 0\n",
    "least_frames = 100\n",
    "\n",
    "for i in range(len(folder_paths_ego)):\n",
    "    if len(os.listdir(folder_paths_ego[i])) > max_frames:\n",
    "        max_frames = len(os.listdir(folder_paths_ego[i]))\n",
    "    if len(os.listdir(folder_paths_ego[i])) < least_frames:\n",
    "        least_frames = len(os.listdir(folder_paths_ego[i]))\n",
    "    if len(os.listdir(folder_paths_other[i])) > max_frames:\n",
    "        max_frames = len(os.listdir(folder_paths_other[i]))\n",
    "    if len(os.listdir(folder_paths_other[i])) < least_frames:\n",
    "        least_frames = len(os.listdir(folder_paths_other[i]))\n",
    "\n",
    "# Create a list to hold the combined frames\n",
    "combined_frames = []\n",
    "frame_list = []\n",
    "\n",
    "for i in range(least_frames):\n",
    "    for k in range(2):\n",
    "        for m in range(3):\n",
    "            if k == 0:\n",
    "                images = glob.glob(f\"{folder_paths_ego[m]}/*.png\")\n",
    "                images.sort()\n",
    "                frame_list.append(images[i])\n",
    "            else:\n",
    "                images = glob.glob(f\"{folder_paths_other[m]}/*.png\")\n",
    "                images.sort()\n",
    "                frame_list.append(images[i])\n",
    "\n",
    "    combined_image = Image.new('RGB', (canvas_width, canvas_height))\n",
    "    combined_image.paste(im = Image.open(frame_list[0 + 6*a]), box = (0, 0))\n",
    "    combined_image.paste(im = Image.open(frame_list[1 + 6*a]), box = (800, 0))\n",
    "    combined_image.paste(im = Image.open(frame_list[2 + 6*a]), box = (1600, 0))\n",
    "    combined_image.paste(im = Image.open(frame_list[3 + 6*a]), box = (0, 600))\n",
    "    combined_image.paste(im = Image.open(frame_list[4 + 6*a]), box = (800, 600))\n",
    "    combined_image.paste(im = Image.open(frame_list[5 + 6*a]), box = (1600, 600))\n",
    "\n",
    "    combined_image.resize((int(canvas_width * 0.3), int(canvas_height * 0.3)), Image.LANCZOS)\n",
    "\n",
    "    combined_frames.append(combined_image)\n",
    "\n",
    "    frame_list = []\n",
    "\n",
    "frame_one = combined_frames[0]\n",
    "\n",
    "frame_one.save(\n",
    "    dir_path_gifs + r\"/\" + file_path + r\"_combined_c1\" + \".gif\",\n",
    "    format=\"GIF\",\n",
    "    append_images=combined_frames[1:],\n",
    "    save_all=True,\n",
    "    duration=120,\n",
    "    loop=0\n",
    ")\n",
    "'''"
   ]
  }
 ],
 "metadata": {
  "kernelspec": {
   "display_name": "conda-python-370-env",
   "language": "python",
   "name": "python3"
  },
  "language_info": {
   "codemirror_mode": {
    "name": "ipython",
    "version": 3
   },
   "file_extension": ".py",
   "mimetype": "text/x-python",
   "name": "python",
   "nbconvert_exporter": "python",
   "pygments_lexer": "ipython3",
   "version": "3.7.12"
  }
 },
 "nbformat": 4,
 "nbformat_minor": 2
}
