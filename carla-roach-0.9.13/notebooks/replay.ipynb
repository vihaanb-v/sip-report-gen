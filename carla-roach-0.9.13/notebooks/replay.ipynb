{
 "cells": [
  {
   "cell_type": "code",
   "execution_count": 1,
   "metadata": {},
   "outputs": [],
   "source": [
    "project_directory = \"/home/ubuntu/vihaan-devel/carla/carla-roach-0.9.13\"\n",
    "import sys\n",
    "sys.path.append(project_directory)"
   ]
  },
  {
   "cell_type": "code",
   "execution_count": 3,
   "metadata": {},
   "outputs": [],
   "source": [
    "import carla\n",
    "import yaml\n",
    "import os\n",
    "\n",
    "from utils_cogmod.server_utils import CarlaServerManager"
   ]
  },
  {
   "cell_type": "code",
   "execution_count": 4,
   "metadata": {},
   "outputs": [],
   "source": [
    "# file_path = os.path.join(project_directory, 'outputs', '2024-04-26', '14-41-15')\n",
    "# diagnostics = os.path.join(file_path, 'diagnostics')"
   ]
  },
  {
   "cell_type": "code",
   "execution_count": 5,
   "metadata": {},
   "outputs": [],
   "source": [
    "def read_config(config_path):\n",
    "    with open(config_path, 'r') as file:\n",
    "        cfg = yaml.safe_load(file)\n",
    "    return cfg\n",
    "\n",
    "def init_client(host, port):\n",
    "    try:\n",
    "        client = carla.Client(host, port)\n",
    "        print(f\"client connected to {host}:{port}\")\n",
    "        print(f\"client.get_server_version(): {client.get_server_version()}, client.get_client_version(): {client.get_client_version()}\")\n",
    "        client.set_timeout(60.0)\n",
    "    except RuntimeError as re:\n",
    "        if \"timeout\" not in str(re) and \"time-out\" not in str(re):\n",
    "            print(\"Could not connect to Carla server because:\", re)\n",
    "        client = None \n",
    "    return client\n",
    "\n",
    "# Assuming 'client' is already initialized and is an instance of carla.Client\n",
    "# The path to your recorder log file\n",
    "\n",
    "def run_replay(config_path, recorder_file_path, actor_id, start_time, duration):\n",
    "    cfg = read_config(config_path)\n",
    "    # server_manager = CarlaServerManager(cfg['carla_sh_path'], cfg['port'], t_sleep=5)\n",
    "    # server_manager.stop()\n",
    "    # server_manager.start()\n",
    "\n",
    "    client = init_client(cfg['host'], cfg['port'])\n",
    "    # Check if file exists\n",
    "    try:\n",
    "        with open(recorder_file_path, 'r') as file:\n",
    "            print(f\"File found: {recorder_file_path}\")\n",
    "    except FileNotFoundError:\n",
    "        print(f\"File not found: {recorder_file_path}\")\n",
    "        exit()\n",
    "    try:\n",
    "        # Corrected call to replay_file\n",
    "        replay_result = client.replay_file(\n",
    "            recorder_file_path,\n",
    "            time_start=start_time,  # Explicitly specifying as double\n",
    "            duration=duration,    # Explicitly specifying as double\n",
    "            follow_id=actor_id,     # This is already an int, but making sure it's clearly specified\n",
    "            replay_sensors=True  # Assuming you want to replay sensors, adjust as necessary\n",
    "        )\n",
    "        print(\"Replaying recorded log file...\", replay_result)\n",
    "    except Exception as e:\n",
    "        print(f\"An error occurred while trying to replay the file: {e}\")"
   ]
  },
  {
   "cell_type": "code",
   "execution_count": 6,
   "metadata": {},
   "outputs": [],
   "source": [
    "config_path = r\"/home/ubuntu/vihaan-devel/carla/carla-roach-0.9.13/config/benchmark.yaml\"\n",
    "recorder_file_path = r\"/home/ubuntu/vihaan-devel/carla/carla-roach-0.9.13/outputs/experiment_1/00-06-31/diagnostics/CogMod-v0_Town04_high_simple/distracted_1_repeat_1.log\""
   ]
  },
  {
   "cell_type": "code",
   "execution_count": 7,
   "metadata": {},
   "outputs": [],
   "source": [
    "cfg = read_config(config_path)\n",
    "server_manager = CarlaServerManager(cfg['carla_sh_path'], cfg['port'], t_sleep=5)\n",
    "server_manager.stop()\n",
    "server_manager.start()"
   ]
  },
  {
   "cell_type": "code",
   "execution_count": 8,
   "metadata": {},
   "outputs": [
    {
     "name": "stdout",
     "output_type": "stream",
     "text": [
      "client connected to localhost:2000\n",
      "client.get_server_version(): 0.9.13, client.get_client_version(): 0.9.13\n"
     ]
    }
   ],
   "source": [
    "client = init_client(cfg['host'], cfg['port'])\n",
    "\n",
    "all_info = client.show_recorder_file_info(recorder_file_path, True)"
   ]
  },
  {
   "cell_type": "code",
   "execution_count": null,
   "metadata": {},
   "outputs": [],
   "source": [
    "# # save all info in a text file \n",
    "# with open(os.path.join(r\"C:\\Users\\abjawad\\Documents\\GitHub\\carla-roach-0.9.13\\notebooks\", 'all_info.txt'), 'w') as f:\n",
    "#     f.write(all_info)"
   ]
  },
  {
   "cell_type": "code",
   "execution_count": 9,
   "metadata": {},
   "outputs": [
    {
     "name": "stdout",
     "output_type": "stream",
     "text": [
      "<class 'str'>\n",
      "Version: 1\n",
      "Map: Town04\n",
      "Date: 04/28/24 01:42:28\n",
      "\n",
      "    Time  Types     Id Actor 1                                 Id Actor 2                            \n",
      "     174   v v    4763 vehicle.lincoln.mkz_2017              4929 vehicle.tesla.cybertruck           \n",
      "\n",
      "Frames: 2375\n",
      "Duration: 237 seconds\n",
      "\n"
     ]
    },
    {
     "name": "stderr",
     "output_type": "stream",
     "text": [
      "/home/ubuntu/vihaan-devel/carla/CARLA_0.9.13/CarlaUE4.sh: line 5: 12600 Killed                  \"$UE4_PROJECT_ROOT/CarlaUE4/Binaries/Linux/CarlaUE4-Linux-Shipping\" CarlaUE4 \"$@\"\n"
     ]
    }
   ],
   "source": [
    "collision_info = client.show_recorder_collisions(recorder_file_path, \"h\", \"v\")\n",
    "\n",
    "print(type(collision_info))\n",
    "print(collision_info)"
   ]
  },
  {
   "cell_type": "code",
   "execution_count": null,
   "metadata": {},
   "outputs": [],
   "source": [
    "start_time = 130\n",
    "duration = 0\n",
    "actor_id = 227\n",
    "other_actor_id = 287\n",
    "run_replay(config_path, recorder_file_path, actor_id, start_time, duration)"
   ]
  },
  {
   "cell_type": "code",
   "execution_count": null,
   "metadata": {},
   "outputs": [],
   "source": [
    "world = client.get_world() \n",
    "actor = world.get_actor(actor_id)\n",
    "actor.destroy()"
   ]
  }
 ],
 "metadata": {
  "kernelspec": {
   "display_name": "carla",
   "language": "python",
   "name": "python3"
  },
  "language_info": {
   "codemirror_mode": {
    "name": "ipython",
    "version": 3
   },
   "file_extension": ".py",
   "mimetype": "text/x-python",
   "name": "python",
   "nbconvert_exporter": "python",
   "pygments_lexer": "ipython3",
   "version": "3.7.12"
  }
 },
 "nbformat": 4,
 "nbformat_minor": 2
}
