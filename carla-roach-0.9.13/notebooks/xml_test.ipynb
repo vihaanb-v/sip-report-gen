{
 "cells": [
  {
   "cell_type": "code",
   "execution_count": null,
   "metadata": {},
   "outputs": [],
   "source": [
    "project_directory = r\"C:\\Users\\abjawad\\Documents\\GitHub\\carla-roach-0.9.13\"\n",
    "import sys\n",
    "sys.path.append(project_directory)"
   ]
  },
  {
   "cell_type": "code",
   "execution_count": null,
   "metadata": {},
   "outputs": [],
   "source": [
    "import xml.etree.ElementTree as ET\n",
    "import carla\n",
    "import yaml\n",
    "import os\n",
    "from utils.server_utils import CarlaServerManager\n",
    "from carla_gym.core.task_actor.common.navigation.global_route_planner import GlobalRoutePlanner\n"
   ]
  },
  {
   "cell_type": "code",
   "execution_count": null,
   "metadata": {},
   "outputs": [],
   "source": [
    "project_directory = r\"C:\\Users\\abjawad\\Documents\\GitHub\\carla-roach-0.9.13\""
   ]
  },
  {
   "cell_type": "code",
   "execution_count": null,
   "metadata": {},
   "outputs": [],
   "source": [
    "def create_route_dict(file_path):\n",
    "    # Parse XML file    \n",
    "    tree = ET.parse(file_path)\n",
    "    root = tree.getroot()\n",
    "    # Dictionary to store route data\n",
    "    routes_dict = {}\n",
    "    for route in root:  # Each 'route' element\n",
    "        route_id = route.attrib['id']\n",
    "        waypoints = []\n",
    "        for vehicle in route:  # Each 'ego_vehicle' within the route\n",
    "            for waypoint in vehicle:  # Each 'waypoint' within the vehicle\n",
    "                waypoint_coords = carla.Location(\n",
    "                    x=float(waypoint.attrib['x']),\n",
    "                    y=float(waypoint.attrib['y']),\n",
    "                    z=float(waypoint.attrib['z'])\n",
    "                )\n",
    "                waypoints.append(waypoint_coords)  \n",
    "        if waypoints:  # If there are waypoints found\n",
    "            routes_dict[route_id] = waypoints  # Store start and destination\n",
    "    return routes_dict\n",
    "\n",
    "# def route_distance(file_path):\n",
    "#     route_dict = create_route_dict(file_path)\n",
    "#     accumulated_distance = 0\n",
    "#     for route_id, waypoints in route_dict.items():\n",
    "#         total_distance = 0\n",
    "#         for i in range(len(waypoints)-1):\n",
    "#             distance = carla.Location(waypoints[i]).distance(carla.Location(waypoints[i+1]))\n",
    "#             total_distance += distance\n",
    "#         print(f\"Route {route_id}: {total_distance} meters\")\n",
    "#         accumulated_distance += total_distance\n",
    "#     print(f\"Total distance: {accumulated_distance} meters\")\n",
    "#     pass\n",
    "\n",
    "\n",
    "def read_config(config_path):\n",
    "    with open(config_path, 'r') as file:\n",
    "        cfg = yaml.safe_load(file)\n",
    "    return cfg\n",
    "\n",
    "def init_client(host, port):\n",
    "    try:\n",
    "        client = carla.Client(host, port)\n",
    "        print(f\"client connected to {host}:{port}\")\n",
    "        print(f\"client.get_server_version(): {client.get_server_version()}, client.get_client_version(): {client.get_client_version()}\")\n",
    "        client.set_timeout(60.0)\n",
    "    except RuntimeError as re:\n",
    "        if \"timeout\" not in str(re) and \"time-out\" not in str(re):\n",
    "            print(\"Could not connect to Carla server because:\", re)\n",
    "        client = None \n",
    "    return client\n",
    "\n",
    "\n",
    "\n",
    "def draw_route(route, frequency=15):\n",
    "    for i, waypoint in enumerate(route):\n",
    "        if i % frequency == 0:\n",
    "            debug.draw_string(location=waypoint[0].transform.location,\n",
    "                            text=str(waypoint[0].transform.location),\n",
    "                            color=carla.Color(0,0,0),\n",
    "                            life_time=1000,\n",
    "                            persistent_lines=True)\n",
    "            debug.draw_point(location=waypoint[0].transform.location,\n",
    "                            size=0.1,\n",
    "                            color=carla.Color(0,0,255),\n",
    "                            life_time=1000)\n"
   ]
  },
  {
   "cell_type": "code",
   "execution_count": null,
   "metadata": {},
   "outputs": [],
   "source": [
    "routes = r\"carla_gym\\envs\\scenario_descriptions\\LeaderBoard\\Town05\\routes.xml\"\n",
    "routes = os.path.join(project_directory, routes)\n",
    "\n",
    "config_path = r'config\\replay.yaml'\n",
    "config_path = os.path.join(project_directory, config_path)"
   ]
  },
  {
   "cell_type": "code",
   "execution_count": null,
   "metadata": {},
   "outputs": [],
   "source": [
    "routes_dict = create_route_dict(routes)"
   ]
  },
  {
   "cell_type": "code",
   "execution_count": null,
   "metadata": {},
   "outputs": [],
   "source": [
    "cfg = read_config(config_path)\n",
    "server_manager = CarlaServerManager(cfg['carla_sh_path'], cfg['port'], t_sleep=5)\n",
    "# server_manager.stop()\n",
    "# server_manager.start()"
   ]
  },
  {
   "cell_type": "code",
   "execution_count": null,
   "metadata": {},
   "outputs": [],
   "source": [
    "client = init_client(cfg['host'], cfg['port'])\n",
    "\n",
    "# load map Town04\n",
    "world = client.load_world('Town04')\n",
    "world = client.get_world()"
   ]
  },
  {
   "cell_type": "code",
   "execution_count": null,
   "metadata": {},
   "outputs": [],
   "source": [
    "# from utils import analysis_utils as autils\n",
    "# import pandas as pd\n",
    "\n",
    "# data_folders = {\n",
    "\n",
    "#     'seed1' : os.path.join(project_directory, 'outputs', 'experiment_1', '23-40-09'), # '2024-04-26'\n",
    "#     'seed2' : os.path.join(project_directory, 'outputs', 'experiment_1', '03-03-02'), # '2024-04-26'\n",
    "#     'seed3' : os.path.join(project_directory, 'outputs', 'experiment_1', '00-14-25'), # '2024-04-27'\n",
    "#     'seed4' : os.path.join(project_directory, 'outputs', 'experiment_1', '00-06-31'), # '2024-04-28'\n",
    "# }\n",
    "# # file_path = data_folders['seed1']\n",
    "# # df = autils.create_episode_df(file_path)\n",
    "# # print(len(df))\n",
    "# # autils.plot_accidents_vs_traffic_density(df)\n",
    "\n",
    "# file_paths = list(data_folders.values())\n",
    "# collisions = pd.DataFrame()\n",
    "# for file_path in file_paths:\n",
    "#     df = autils.create_df_for_collisions_with_moving_objects(file_path)\n",
    "#     collisions = pd.concat([collisions, df])\n",
    "\n",
    "# print(len(collisions))\n",
    "# collisions.columns"
   ]
  },
  {
   "cell_type": "code",
   "execution_count": null,
   "metadata": {},
   "outputs": [],
   "source": [
    "# town04_collisions = collisions[collisions['location'] == 'Town04']\n",
    "# print(len(town04_collisions))\n",
    "# # create list of carla locations using the col 'event_loc_x', 'event_loc_y','event_loc_z'\n",
    "# locations = []\n",
    "# for i, row in town04_collisions.iterrows():\n",
    "#     location = carla.Location(x=row['event_loc_x'], y=row['event_loc_y'], z=row['event_loc_z'])\n",
    "#     locations.append(location)\n",
    "# print(len(locations))\n",
    "\n",
    "# debug = world.debug\n",
    "# for loc in locations:\n",
    "#     debug.draw_point(loc, size=0.1, color=carla.Color(255,0,0), life_time=1000)\n",
    "# spectator = world.get_spectator()\n",
    "\n",
    "# # make deep copy of the first point\n",
    "# spec_loc = carla.Location(locations[0])\n",
    "# spec_loc.z += 40\n",
    "\n",
    "# # set spectator to the first point\n",
    "# spectator.set_transform(carla.Transform(spec_loc, carla.Rotation(pitch=-90)))\n"
   ]
  },
  {
   "cell_type": "code",
   "execution_count": null,
   "metadata": {},
   "outputs": [],
   "source": [
    "# print(routes_dict.keys())\n",
    "\n",
    "route = routes_dict['16']\n",
    "# print(route)\n",
    "\n",
    "# # draw a point in carla\n",
    "debug = world.debug\n",
    "# for i in range(len(route)-1):\n",
    "#     print(route[i])\n",
    "#     debug.draw_line(begin=route[i],\n",
    "#                      end=route[i+1],\n",
    "#                     thickness=1,\n",
    "#                     color=carla.Color(255,0,0),\n",
    "#                     life_time=1000)\n",
    "\n",
    "# set spectator to the first point with looking downward from 40 m above\n",
    "spectator = world.get_spectator()\n",
    "\n",
    "# make deep copy of the first point\n",
    "spec_loc = carla.Location(route[-2])\n",
    "spec_loc.z += 40\n",
    "\n",
    "# set spectator to the first point\n",
    "spectator.set_transform(carla.Transform(spec_loc, carla.Rotation(pitch=-90)))\n",
    "\n"
   ]
  },
  {
   "cell_type": "code",
   "execution_count": null,
   "metadata": {},
   "outputs": [],
   "source": [
    "# draw text in carla for each waypoint in the route\n",
    "for i, waypoint in enumerate(route):\n",
    "    debug.draw_string(location=waypoint,\n",
    "                      text=str(i),\n",
    "                      color=carla.Color(255,0,0),\n",
    "                      life_time=1000,\n",
    "                      persistent_lines=True)"
   ]
  },
  {
   "cell_type": "code",
   "execution_count": null,
   "metadata": {},
   "outputs": [],
   "source": [
    "planner = GlobalRoutePlanner(world.get_map(), 1)\n",
    "# start = carla.Location(route[0])\n",
    "# destination = carla.Location(route[-1])\n",
    "# trace_route = planner.trace_route(start, destination)\n",
    "\n",
    "# take consecutive point from route and use trace_route to get the route\n",
    "for i in range(len(route)-1):\n",
    "    start = carla.Location(route[i])\n",
    "    destination = carla.Location(route[i+1])\n",
    "    trace_route = planner.trace_route(start, destination)\n",
    "    draw_route(trace_route, frequency=4)"
   ]
  }
 ],
 "metadata": {
  "kernelspec": {
   "display_name": "carla",
   "language": "python",
   "name": "python3"
  },
  "language_info": {
   "codemirror_mode": {
    "name": "ipython",
    "version": 3
   },
   "file_extension": ".py",
   "mimetype": "text/x-python",
   "name": "python",
   "nbconvert_exporter": "python",
   "pygments_lexer": "ipython3",
   "version": "3.7.8"
  }
 },
 "nbformat": 4,
 "nbformat_minor": 2
}
